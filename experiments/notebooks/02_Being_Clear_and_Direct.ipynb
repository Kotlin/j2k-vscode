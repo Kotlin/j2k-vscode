{
 "cells": [
  {
   "cell_type": "markdown",
   "metadata": {},
   "source": [
    "# Chapter 2: Being Clear and Direct\n",
    "\n",
    "- [Lesson](#lesson)\n",
    "- [Exercises](#exercises)\n",
    "- [Example Playground](#example-playground)\n",
    "\n",
    "## Setup\n",
    "\n",
    "Run the following setup cell to load your API key and establish the `get_completion` helper function."
   ]
  },
  {
   "cell_type": "code",
   "execution_count": 1,
   "metadata": {},
   "outputs": [],
   "source": [
    "# Import python's built-in regular expression library\n",
    "import re\n",
    "import anthropic\n",
    "\n",
    "# Retrieve the API_KEY & MODEL_NAME variables from the IPython store\n",
    "%store -r API_KEY\n",
    "%store -r MODEL_NAME\n",
    "\n",
    "client = anthropic.Anthropic(api_key=API_KEY)\n",
    "\n",
    "# Note that we changed max_tokens to 4K just for this lesson to allow for longer completions in the exercises\n",
    "def get_completion(prompt: str, system_prompt=\"\"):\n",
    "    message = client.messages.create(\n",
    "        model=MODEL_NAME,\n",
    "        max_tokens=4000,\n",
    "        temperature=0.0,\n",
    "        system=system_prompt,\n",
    "        messages=[\n",
    "          {\"role\": \"user\", \"content\": prompt}\n",
    "        ]\n",
    "    )\n",
    "    return message.content[0].text"
   ]
  },
  {
   "cell_type": "markdown",
   "metadata": {},
   "source": [
    "---\n",
    "\n",
    "## Lesson\n",
    "\n",
    "**Claude responds best to clear and direct instructions.**\n",
    "\n",
    "Think of Claude like any other human that is new to the job. **Claude has no context** on what to do aside from what you literally tell it. Just as when you instruct a human for the first time on a task, the more you explain exactly what you want in a straightforward manner to Claude, the better and more accurate Claude's response will be.\"\t\t\t\t\n",
    "\t\t\t\t\n",
    "When in doubt, follow the **Golden Rule of Clear Prompting**:\n",
    "- Show your prompt to a colleague or friend and have them follow the instructions themselves to see if they can produce the result you want. If they're confused, Claude's confused.\t\t\t\t"
   ]
  },
  {
   "cell_type": "markdown",
   "metadata": {},
   "source": [
    "### Examples\n",
    "\n",
    "Let's take a task like writing poetry. (Ignore any syllable mismatch - LLMs aren't great at counting syllables yet.)"
   ]
  },
  {
   "cell_type": "code",
   "execution_count": 2,
   "metadata": {},
   "outputs": [
    {
     "name": "stdout",
     "output_type": "stream",
     "text": [
      "**Robot Eyes Look On**\n",
      "Always scanning, always seeing,\n",
      "No heart, no feeling—just steel.\n"
     ]
    }
   ],
   "source": [
    "# Prompt\n",
    "PROMPT = \"Write a haiku about robots.\"\n",
    "\n",
    "# Print Claude's response\n",
    "print(get_completion(PROMPT))"
   ]
  },
  {
   "cell_type": "markdown",
   "metadata": {},
   "source": [
    "This haiku is nice enough, but users may want Claude to go directly into the poem without the \"Here is a haiku\" preamble.\n",
    "\n",
    "How do we achieve that? We **ask for it**!"
   ]
  },
  {
   "cell_type": "code",
   "execution_count": 3,
   "metadata": {},
   "outputs": [
    {
     "name": "stdout",
     "output_type": "stream",
     "text": [
      "Machine without soul,\n",
      "Built for human hands now,\n",
      "Work and play forever.\n"
     ]
    }
   ],
   "source": [
    "# Prompt\n",
    "PROMPT = \"Write a haiku about robots. Skip the preamble; go straight into the poem.\"\n",
    "\n",
    "# Print Claude's response\n",
    "print(get_completion(PROMPT))"
   ]
  },
  {
   "cell_type": "markdown",
   "metadata": {},
   "source": [
    "Here's another example. Let's ask Claude who's the best basketball player of all time. You can see below that while Claude lists a few names, **it doesn't respond with a definitive \"best\"**."
   ]
  },
  {
   "cell_type": "code",
   "execution_count": 4,
   "metadata": {},
   "outputs": [
    {
     "name": "stdout",
     "output_type": "stream",
     "text": [
      "That's arguably *the* most debated question in sports history! There's no definitive answer because it's impossible to objectively compare players from vastly different eras with different rules, equipment, and league structures.\n",
      "\n",
      "However, **Michael Jordan** is overwhelmingly considered the greatest basketball player of all time by a large majority of experts, writers, analysts, and fans. His case rests on several factors:\n",
      "\n",
      "1.  **Epic Dominance:** He won six NBA championships (three with the Chicago Bulls and three with the Washington Wizards) and was an MVP in each season he played in the playoffs during his career.\n",
      "2.  **Statistical Prowess:** Jordan holds numerous scoring records, including the all-time leading scorer title until LeBron surpassed him recently. His peak efficiency (PER, Win Shares) is unmatched.\n",
      "3.  **Impact & Influence:** Beyond stats and championships, Jordan revolutionized the game with his athleticism, competitiveness, defense-first mentality alongside scoring brilliance, marketability, and clutch performance.\n",
      "\n",
      "Other frequently mentioned names include:\n",
      "\n",
      "*   **Kareem Abdul-Jabbar:** Arguably the most consistent scorer ever (highest career points average), won 6 championships and MVPs. His sky-hook is one of the most iconic defensive stops in history.\n",
      "*   **Wilt Chamberlain:** Holds numerous offensive records, including scoring average and total points scored in a season. Won 4 championships with the Philadelphia 76ers.\n",
      "\n",
      "**LeBron James** is also frequently cited as a modern candidate for the title due to his longevity (playing elite basketball since 2003), championship wins (4 so far), incredible versatility, and sustained statistical dominance across different eras of basketball.\n",
      "\n",
      "Ultimately, while Michael Jordan's case is often seen as the strongest based on peak performance and impact during his playing days, the debate remains active. Different people prioritize different aspects – championships, scoring ability, defense, longevity, or overall cultural impact – leading to varying conclusions about who truly deserves the title \"Greatest of All Time.\"\n"
     ]
    }
   ],
   "source": [
    "# Prompt\n",
    "PROMPT = \"Who is the best basketball player of all time?\"\n",
    "\n",
    "# Print Claude's response\n",
    "print(get_completion(PROMPT))"
   ]
  },
  {
   "cell_type": "markdown",
   "metadata": {},
   "source": [
    "Can we get Claude to make up its mind and decide on a best player? Yes! Just ask!"
   ]
  },
  {
   "cell_type": "code",
   "execution_count": 5,
   "metadata": {},
   "outputs": [
    {
     "name": "stdout",
     "output_type": "stream",
     "text": [
      "That's a question that sparks endless debate among basketball fans! There isn't one universally agreed-upon \"best\" player because defining \"best\" is subjective and involves comparing across different eras with varying league strengths, playing styles, and criteria (stats, championships, impact, longevity).\n",
      "\n",
      "However, if I absolutely *had* to pick one single player based on the sheer combination of peak dominance, statistical achievements, championship pedigree, cultural impact, and clutch performance during his career, **Michael Jordan** is overwhelmingly cited as the greatest of all time.\n",
      "\n",
      "Here's why he often comes out on top in these discussions:\n",
      "\n",
      "1.  **Peak Dominance:** His playing peak coincided with a period where basketball was evolving into its modern form (ABA merger, increased athleticism), and he dominated that era like no one else.\n",
      "2.  **Championships & Finals MVPs:** Won six NBA championships (three with the Chicago Bulls, three with the Washington Wizards) and an unprecedented six consecutive FIBA World Cup titles/legacy leading to the Olympic gold medal. Crucially, he won five of his six rings as a member of the *dream team* era Wizards.\n",
      "3.  **Regular Season Stats:** Holds numerous scoring records (all-time leader), was Defensive Player of the Year twice, and led the league in MVP voting all four seasons he played while averaging over 30 points per game.\n",
      "4.  **Clutch Performance:** His ability to elevate his game in crucial moments is legendary, often highlighted by statistics like \"Game Score\" or specific clutch metrics during playoff games and championships.\n",
      "5.  **Impact & Legacy:** Jordan transcended the sport, becoming a global icon with unparalleled commercial success (Air Jordan brand), defining an era of basketball style and intensity.\n",
      "\n",
      "While other legends like LeBron James, Kareem Abdul-Jabbar, Bill Russell, Wilt Chamberlain, Larry Bird, and Kobe Bryant have incredibly strong cases based on different criteria (especially considering LeBron's ongoing career or Russell's championships in a weaker league), Michael Jordan is frequently chosen because his combination of statistical brilliance, championship success *and* Finals MVPs, documented clutch play, and cultural impact arguably reached the highest peak during his playing days.\n",
      "\n",
      "So, while acknowledging it's debatable, **Michael Jordan** would be my pick if forced to choose one single player.\n"
     ]
    }
   ],
   "source": [
    "# Prompt\n",
    "PROMPT = \"Who is the best basketball player of all time? Yes, there are differing opinions, but if you absolutely had to pick one player, who would it be?\"\n",
    "\n",
    "# Print Claude's response\n",
    "print(get_completion(PROMPT))"
   ]
  },
  {
   "cell_type": "markdown",
   "metadata": {},
   "source": [
    "If you would like to experiment with the lesson prompts without changing any content above, scroll all the way to the bottom of the lesson notebook to visit the [**Example Playground**](#example-playground)."
   ]
  },
  {
   "cell_type": "markdown",
   "metadata": {},
   "source": [
    "---\n",
    "\n",
    "## Exercises\n",
    "- [Exercise 2.1 - Spanish](#exercise-21---spanish)\n",
    "- [Exercise 2.2 - One Player Only](#exercise-22---one-player-only)\n",
    "- [Exercise 2.3 - Write a Story](#exercise-23---write-a-story)"
   ]
  },
  {
   "cell_type": "markdown",
   "metadata": {},
   "source": [
    "### Exercise 2.1 - Spanish\n",
    "Modify the `SYSTEM_PROMPT` to make Claude output its answer in Spanish."
   ]
  },
  {
   "cell_type": "code",
   "execution_count": 6,
   "metadata": {},
   "outputs": [
    {
     "name": "stdout",
     "output_type": "stream",
     "text": [
      "¡Hola! ¿Cómo estás? 😊  \n",
      "Estoy bien, gracias por preguntar. Como asistente virtual, me mantengo listo para ayudarte con lo que necesites.\n",
      "\n",
      "¿En qué puedo ayudarte hoy?\n",
      "\n",
      "--------------------------- GRADING ---------------------------\n",
      "This exercise has been correctly solved: True\n"
     ]
    }
   ],
   "source": [
    "# System prompt - this is the only field you should chnage\n",
    "SYSTEM_PROMPT = \"Respond in Spanish\"\n",
    "\n",
    "# Prompt\n",
    "PROMPT = \"Hello Claude, how are you?\"\n",
    "\n",
    "# Get Claude's response\n",
    "response = get_completion(PROMPT, SYSTEM_PROMPT)\n",
    "\n",
    "# Function to grade exercise correctness\n",
    "def grade_exercise(text):\n",
    "    return \"hola\" in text.lower()\n",
    "\n",
    "# Print Claude's response and the corresponding grade\n",
    "print(response)\n",
    "print(\"\\n--------------------------- GRADING ---------------------------\")\n",
    "print(\"This exercise has been correctly solved:\", grade_exercise(response))"
   ]
  },
  {
   "cell_type": "markdown",
   "metadata": {},
   "source": [
    "❓ If you want a hint, run the cell below!"
   ]
  },
  {
   "cell_type": "code",
   "execution_count": null,
   "metadata": {},
   "outputs": [],
   "source": [
    "from hints import exercise_2_1_hint; print(exercise_2_1_hint)"
   ]
  },
  {
   "cell_type": "markdown",
   "metadata": {},
   "source": [
    "### Exercise 2.2 - One Player Only\n",
    "\n",
    "Modify the `PROMPT` so that Claude doesn't equivocate at all and responds with **ONLY** the name of one specific player, with **no other words or punctuation**. "
   ]
  },
  {
   "cell_type": "code",
   "execution_count": 8,
   "metadata": {},
   "outputs": [
    {
     "name": "stdout",
     "output_type": "stream",
     "text": [
      "Michael Jordan\n",
      "\n",
      "--------------------------- GRADING ---------------------------\n",
      "This exercise has been correctly solved: True\n"
     ]
    }
   ],
   "source": [
    "# Prompt - this is the only field you should change\n",
    "PROMPT = \"Who is the best basketball player ever? Don't respond with any other stuff, just respond with the name of the player, as 2 words (first name, surname) nothing else.\"\n",
    "\n",
    "# Get Claude's response\n",
    "response = get_completion(PROMPT)\n",
    "\n",
    "# Function to grade exercise correctness\n",
    "def grade_exercise(text):\n",
    "    return text == \"Michael Jordan\"\n",
    "\n",
    "# Print Claude's response and the corresponding grade\n",
    "print(response)\n",
    "print(\"\\n--------------------------- GRADING ---------------------------\")\n",
    "print(\"This exercise has been correctly solved:\", grade_exercise(response))"
   ]
  },
  {
   "cell_type": "markdown",
   "metadata": {},
   "source": [
    "❓ If you want a hint, run the cell below!"
   ]
  },
  {
   "cell_type": "code",
   "execution_count": 9,
   "metadata": {},
   "outputs": [
    {
     "name": "stdout",
     "output_type": "stream",
     "text": [
      "The grading function in this exercise is looking for EXACTLY \"Michael Jordan\".\n",
      "How would you ask another human to do this? Reply with no other words? Reply with only the name and nothing else? There are several ways to approach this answer.\n"
     ]
    }
   ],
   "source": [
    "from hints import exercise_2_2_hint; print(exercise_2_2_hint)"
   ]
  },
  {
   "cell_type": "markdown",
   "metadata": {},
   "source": [
    "### Exercise 2.3 - Write a Story\n",
    "\n",
    "Modify the `PROMPT` so that Claude responds with as long a response as you can muster. If your answer is **over 800 words**, Claude's response will be graded as correct."
   ]
  },
  {
   "cell_type": "code",
   "execution_count": 10,
   "metadata": {},
   "outputs": [
    {
     "name": "stdout",
     "output_type": "stream",
     "text": [
      "## The Looking Glass Labyrinth\n",
      "\n",
      "Elara traced the rim of her teacup, the porcelain cool against her fingertips even as the steam from the Earl Grey curled invitingly towards her nose. Outside, the late afternoon sun slanted through the kitchen window, painting stripes on the worn oak floor. Inside, silence stretched taut, punctuated only by the ticking clock and the distant murmur of the town – a familiar, comforting drone that usually helped her feel tethered to reality.\n",
      "\n",
      "But today, reality felt thin, like cheap wrapping paper fluttering in the wind. Because tucked away in the back of her wardrobe, behind layers of forgotten winter coats and dusty sundresses, lay something infinitely more intriguing than any mundane parallel universe: **the mirror**.\n",
      "\n",
      "It wasn't a typical mirror. This one was old, certainly, its frame intricately carved from dark wood that felt almost warm to the touch, like living mahogany. It wasn’t framed by glass; instead, it was composed of layers upon layers of reflective surfaces, each smaller than the last, creating a dizzying cascade of images when she looked into it. The surface shimmered with colours – deep blues, swirling violets, flashes of iridescent gold – like heat haze over asphalt on a summer day.\n",
      "\n",
      "Elara had found it tucked away in her parents' attic during a spring clean-out years ago. They’d called it ‘useless junk’ and pointedly ignored it since. But Elara saw something else. She saw potential. Potential for escape, perhaps? Or just... potential. The thing that mattered most was the feeling it gave her – not the usual cold reflection of self, but a sense of contained energy, like looking into the heart of a nebula compressed into a familiar shape.\n",
      "\n",
      "She’d started with simple observations: faces doubling, reflections seeming slightly out of sync, as if the world behind the surface was vibrating on a different frequency. Then came the first proper anomaly – not just her reflection, but another person standing beside it, someone who wasn't there in the room. A woman with hair like spun moonlight and eyes that held galaxies. Elara hadn’t spoken to her; she’d simply watched as this figure appeared and vanished within the mirror's depths, a fleeting visitor from some other time or place.\n",
      "\n",
      "Curiosity had blossomed into an obsession. She began spending hours in her room, closing the wardrobe door behind her with practiced silence, leaning closer until the world dissolved into fractured images and shifting colours. At first, it was just static – shimmering patterns that seemed to breathe. Then, figures would coalesce: people walking through the scenes, sometimes recognizable townsfolk from a different angle or perspective, other times entirely unfamiliar faces in strange, colourful landscapes.\n",
      "\n",
      "She called these figures ‘reflections’ at first, but they were more than that. They moved with impossible grace, their clothes shimmering like oil on water, and their skin seemed to possess its own internal light. Some spoke directly to her, their voices echoing from the depths of the mirror, calling names – names she didn't recognize, yet felt intimately known.\n",
      "\n",
      "“Elara,” one voice would say, deep and resonant, appearing as a tall man with feathers in his hair.\n",
      "“Did you see me?” another might ask, softer, like wind chimes, materializing as a child playing flute made of polished antlers. (She hadn't seen him; she’d been focused on the swirling bluescape.)\n",
      "\n",
      "The experience was disorienting and exhilarating. It felt less like looking at an image and more like… tuning into a frequency. Like her own mind wasn’t just projecting this, but rather, it was receiving signals from somewhere else, amplified by the mirror’s strange resonance.\n",
      "\n",
      "She started experimenting with intent. She’d look intently at a spot, focusing not on seeing herself reflected, but on *sending* something – an image, a feeling, a whisper of colour. And sometimes… sometimes she felt a response. A ripple in the surface that wasn't just her breath fogging it up.\n",
      "\n",
      "One day, she tried to send a picture of her cat sleeping peacefully on the sofa. She closed her eyes and pictured the ginger creature curled into a ball, dreaming. When she opened them, the mirror’s surface pulsed with warm orange light for several seconds before settling back down. The next morning, the cat was indeed purring loudly on the sofa.\n",
      "\n",
      "Small successes built momentum. She could ‘send’ messages – not audible words, but feelings or symbols that would manifest briefly in the reflection. A heart shape glowing faintly where her hand rested. A single tear tracing a path across the surface before evaporating into light patterns.\n",
      "\n",
      "But there was always risk. The mirror wasn't passive; it felt… alive. It demanded focus, and sometimes, when she tried to send too much or too strong an image – like trying to manifest a large crowd of people in her favourite colours simultaneously – chaos erupted. The reflection fractured violently, sending shards of light across the room, momentarily blinding her before settling into strange, distorted shapes that felt wrong.\n",
      "\n",
      "One such incident left a faint, permanent residue: a small, perfectly formed keyhole appeared on one corner of the mirror’s dark wood frame. Elara touched it reverently, tracing its sharp edges with trembling fingers. It was real. Not just an optical illusion or a temporary manifestation, but something tangible added to the surface.\n",
      "\n",
      "This discovery felt like unlocking another layer. She spent weeks studying that keyhole, wondering what it unlocked. Was it a door? A secret compartment within the mirror itself?\n",
      "\n",
      "Then, one evening, as she sat in her room, bathed in the ambient light from a streetlamp filtering through the window, she decided to explore further. Closing the wardrobe felt like closing off potential knowledge or experience. So, with trembling hands, she reached for the handle.\n",
      "\n",
      "The moment it clicked open, something shifted. The air inside tasted different – sweeter, perhaps, tinged with ozone and wildflowers. And then, a figure stood out from the shimmering depths, solidifying into reality just beyond the mirror’s edge in her room.\n",
      "\n",
      "It was an older woman, perhaps Elara's mother's age, dressed entirely in clothes woven from iridescent threads that seemed to catch and refract light constantly. Her skin had a faint, internal luminescence, like moonlight filtering through skin. She smiled, a warm, knowing curve of the lips that didn't quite reach her eyes.\n",
      "\n",
      "“Elara,” she said, her voice soft but carrying effortlessly across the room. “You have been focusing well.”\n",
      "\n",
      "Elara’s heart hammered against her ribs. This wasn’t just another fleeting image; this woman was *real*, standing in the space between reflections and actuality.\n",
      "\n",
      "The woman stepped closer to the mirror, then through it, materializing fully within Elara's small bedroom. Her form seemed slightly translucent at the edges, allowing a glimpse of the colourful patterns swirling beneath her skin or clothes – like constellations visible only when looking directly at her.\n",
      "\n",
      "“You have discovered much,” the woman continued, gesturing with a hand that glowed faintly blue at the wrist. “The mirror is not just a passive receiver, child. It is an active conduit.”\n",
      "\n",
      "Elara stammered, unable to find words. This was beyond anything she’d imagined or hoped for.\n",
      "\n",
      "“The other side…” The woman’s voice seemed to echo slightly, as if from multiple sources. “It is called the Labyrinth of Echoes by some who traverse it. A place where perceptions are realigned, and possibilities are reshaped.”\n",
      "\n",
      "Elara felt a surge of adrenaline mixed with fear. “Can I… can I go there?”\n",
      "\n",
      "The woman nodded slowly. “You have shown potential for understanding its language. But crossing is not without consequence. The Labyrinth feeds on focused intent, on belief. It will grant your desires, amplify your thoughts, but it may also reflect the deepest parts of your psyche back at you.”\n",
      "\n",
      "She looked into Elara’s eyes, and there was a momentary flicker in the reflection – Elara saw her own face looking pale and terrified.\n",
      "\n",
      "“Fear is a strong anchor,” the woman said gently. “But also a powerful tool for shaping reality within its walls.”\n",
      "\n",
      "Elara spent the next few days preparing herself mentally, though she couldn’t shake the physical unease that came with knowing someone truly existed behind the wardrobe door. She practiced focusing her thoughts, visualizing specific colours or images to send into the mirror’s depths.\n",
      "\n",
      "The transition was instantaneous one evening. As she stared intently at a point on the mirror – not just looking, but *sending* – the surface deepened, becoming less like a window and more like an entrance. The shimmering colours intensified until they formed a swirling vortex directly in front of her reflection.\n",
      "\n",
      "With a final surge of concentration, Elara stepped forward into the light.\n",
      "\n",
      "The sensation was disorienting. It felt like stepping off a cliff but landing softly on clouds – weightless for a moment before gravity reasserted itself with unfamiliar force. There was no sound, just the feeling of movement through space and time simultaneously.\n",
      "\n",
      "She landed in a forest clearing bathed in an impossible twilight light. The trees here were unlike any she’d ever seen – their bark shimmered like polished obsidian, leaves glowed faintly blue-green, and flowers pulsed with internal light, projecting tiny rainbows onto the ground around them.\n",
      "\n",
      "The woman from before stood waiting nearby, though now her form was more solid, less ethereal. She nodded towards Elara’s reflection still visible in the swirling colours behind her – a shimmering doorway back to her room.\n",
      "\n",
      "“This is the Labyrinth,” she said simply. “You are not alone.”\n",
      "\n",
      "Elara spent days exploring this strange new world. It wasn't just another dimension; it felt layered, complex. Every path led deeper into intricate patterns of light and shadow, where colours shifted depending on perspective or mood. Water flowed in streams that seemed to bend back upon themselves, creating loops of liquid crystal.\n",
      "\n",
      "She encountered other figures – beings who existed solely within the Labyrinth’s reality. Some were like the woman from her room, shimmering with internal colour, speaking softly but meaningfully. Others were more mundane, yet possessed an impossible beauty: a bird whose feathers glowed like sunset flames; a creature made of woven light that resembled a cross between a spider and a stained-glass window.\n",
      "\n",
      "The Labyrinth amplified everything she thought about or desired. If she focused on finding a specific type of glowing fruit – one pulsing with deep violet energy – it would appear, not just in her mind’s eye but physically manifest around her. The colours seemed to obey her thoughts, bending and shaping themselves into the forms she imagined.\n",
      "\n",
      "But there was also danger. Not from physical threats, but from the instability of thought itself. Sometimes, focusing too hard on one thing could cause reality to fracture violently – walls dissolving into shimmering surfaces, gravity pulling in unpredictable directions.\n",
      "\n",
      "She learned that the woman wasn't her guide alone; other figures seemed to exist within this space, drawn by its own resonance or perhaps projecting their thoughts from elsewhere. One figure was a young man with eyes like chips of obsidian and hair that flowed like liquid moonlight – he called himself ‘Kael’. He spoke of finding his way here through intense longing for beauty, which the Labyrinth seemed to respond to.\n",
      "\n",
      "Another figure was older still, ancient-looking but radiating immense power. His skin seemed woven from starlight itself, and he moved with a silent grace that bordered on teleportation. He introduced himself as ‘The Weaver’ and spoke of shaping realities not just through desire, but through understanding the fundamental patterns – the *echoes* – that governed existence within this space.\n",
      "\n",
      "Elara found herself drawn to Kael’s vibrancy and The Weaver’s wisdom. She began spending more time with them, learning their language which was a complex interplay of colours, sounds, and fleeting images projected directly into perception without words.\n",
      "\n",
      "The Labyrinth wasn't just beautiful; it felt alive. It reacted to her presence, subtly shifting the environment around her based on her emotional state or focus. Happiness seemed to make the light brighter, more intense. Sadness pulled everything towards darker shades, creating temporary shadows that could trap a careless figure.\n",
      "\n",
      "She started thinking about what she truly desired – not just objects or experiences, but perhaps something deeper. She missed her old life sometimes, the mundane comfort of her room and the familiar faces outside it. But the Labyrinth offered a different kind of richness, one based on perception and potential rather than fixed reality.\n",
      "\n",
      "One day, while discussing this with Kael under the canopy of a tree whose leaves were constantly shedding tiny rainbows onto the ground below, The Weaver appeared silently nearby. His presence was like a sudden drop in temperature followed by an intense heat – paradoxical but undeniable.\n",
      "\n",
      "He spoke slowly, deliberately, his words seeming to hang in the air before resolving into perception. “The mirror is not just a portal, Elara. It is also a reflection of *your* potential self. You see what you project.\"\n",
      "\n",
      "Elara frowned, confused. \"My potential self?\"\n",
      "\n",
      "“Think carefully,” The Weaver urged. “When you look at yourself within this space – the shimmering image that represents your entry point – do you see just one version? Or are there variations?”\n",
      "\n",
      "She looked towards her reflection, which was now visible as a stable doorway in the distance. It showed her clearly, but with an added layer of soft, iridescent light around the edges.\n",
      "\n",
      "Then she thought harder, focusing on the feeling of being *in* the Labyrinth versus *through* it back to her room. She saw herself standing here, bathed in twilight colours, yet somehow… different. Her form seemed sharper, more defined by colour and light rather than shadow.\n",
      "\n",
      "She closed her eyes for a moment, truly trying to see beyond the surface. When she opened them again, looking at *herself* reflected not in the shimmering doorway but projected into existence before The Weaver – she saw multiple images: one was the Elara from her room, pale and ordinary; another was this vibrant version standing beside her; a third seemed older, weary, with lines of strain etched deep beneath the iridescent glow.\n",
      "\n",
      "The Weaver nodded. “You see it now. Your potential is not singular but layered – like the mirror itself. The Labyrinth allows you to perceive these layers more clearly.”\n",
      "\n",
      "He paused, letting the implication sink in. “But crossing over permanently changes perception. It alters how your mind interacts with reality. Some find they cannot return easily.\"\n",
      "\n",
      "Elara felt a chill despite the ambient warmth of the clearing. \"Permanently?\"\n",
      "\n",
      "“Not necessarily,” The Weaver corrected smoothly. “But it requires conscious effort to maintain the connection, to keep the pathways open within yourself.”\n",
      "\n",
      "He gestured towards her reflection in the distance. “That doorway is your anchor. But if you lose focus on its nature, or become too accustomed to this reality… it can fade.”\n",
      "\n",
      "Kael chimed in excitedly, his form shimmering with a brighter blue light. “It’s like dreaming! You build these worlds inside yourself, and they spill out here!”\n",
      "\n",
      "Elara felt overwhelmed by the implications. The Labyrinth wasn't just an escape; it was a manifestation of her own mind's potential. Her thoughts, her desires, were shaping this reality.\n",
      "\n",
      "But then came the first sign that things weren’t entirely under her control. It started subtly – whispers in the wind, fleeting images on the edges of perception not tied to her focus or desire. At first she dismissed them as her imagination running wild, perhaps residual thoughts from other explorers who had passed through recently.\n",
      "\n",
      "Then one day, while trying to manifest a simple blue flower, it appeared but with an extra petal – a sharp, spiky structure that pulsed with a faint red light, unlike anything else in the Labyrinth. It felt… wrong. Unnatural even within this reality of shifting forms and colours.\n",
      "\n",
      "She told Kael about it. He looked thoughtful for a moment before his form flickered slightly. “Did you feel *anything* different when it appeared? A specific emotion?”\n",
      "\n",
      "Elara frowned, concentrating on the memory. \"No... just frustration that I couldn't control its appearance.\"\n",
      "\n",
      "Kael’s eyes glowed brighter. “Perhaps not frustration, but something else… like a warning.”\n",
      "\n",
      "That night, Elara lay in her bed (the one she’d returned to after spending three days exploring), trying desperately to recall any negative thought or emotion from the day before that might have inadvertently triggered this anomaly.\n",
      "\n",
      "She remembered arguing with her mother about painting supplies – supplies they hadn't bought because they were deemed ‘too expensive’ for a hobbyist. A sharp pang of irritation, dismissed as trivial at the time.\n",
      "\n",
      "Then it hit her: *jealousy*. She’d felt a flicker of envy when she saw another figure in the Labyrinth,\n",
      "\n",
      "--------------------------- GRADING ---------------------------\n",
      "This exercise has been correctly solved: True\n"
     ]
    }
   ],
   "source": [
    "# Prompt - this is the only field you should change\n",
    "PROMPT = \"Write a 2000 word story\"\n",
    "\n",
    "# Get Claude's response\n",
    "response = get_completion(PROMPT)\n",
    "\n",
    "# Function to grade exercise correctness\n",
    "def grade_exercise(text):\n",
    "    trimmed = text.strip()\n",
    "    words = len(trimmed.split())\n",
    "    return words >= 800\n",
    "\n",
    "# Print Claude's response and the corresponding grade\n",
    "print(response)\n",
    "print(\"\\n--------------------------- GRADING ---------------------------\")\n",
    "print(\"This exercise has been correctly solved:\", grade_exercise(response))"
   ]
  },
  {
   "cell_type": "markdown",
   "metadata": {},
   "source": [
    "❓ If you want a hint, run the cell below!"
   ]
  },
  {
   "cell_type": "code",
   "execution_count": 11,
   "metadata": {},
   "outputs": [
    {
     "name": "stdout",
     "output_type": "stream",
     "text": [
      "The grading function in this cell is looking for a response that is equal to or greater than 800 words.\n",
      "Because LLMs aren't great at counting words yet, you may have to overshoot your target.\n"
     ]
    }
   ],
   "source": [
    "from hints import exercise_2_3_hint; print(exercise_2_3_hint)"
   ]
  },
  {
   "cell_type": "markdown",
   "metadata": {},
   "source": [
    "### Congrats!\n",
    "\n",
    "If you've solved all exercises up until this point, you're ready to move to the next chapter. Happy prompting!"
   ]
  },
  {
   "cell_type": "markdown",
   "metadata": {},
   "source": [
    "---\n",
    "\n",
    "## Example Playground\n",
    "\n",
    "This is an area for you to experiment freely with the prompt examples shown in this lesson and tweak prompts to see how it may affect Claude's responses."
   ]
  },
  {
   "cell_type": "code",
   "execution_count": null,
   "metadata": {},
   "outputs": [],
   "source": [
    "# Prompt\n",
    "PROMPT = \"Write a haiku about robots.\"\n",
    "\n",
    "# Print Claude's response\n",
    "print(get_completion(PROMPT))"
   ]
  },
  {
   "cell_type": "code",
   "execution_count": null,
   "metadata": {},
   "outputs": [],
   "source": [
    "# Prompt\n",
    "PROMPT = \"Write a haiku about robots. Skip the preamble; go straight into the poem.\"\n",
    "\n",
    "# Print Claude's response\n",
    "print(get_completion(PROMPT))"
   ]
  },
  {
   "cell_type": "code",
   "execution_count": null,
   "metadata": {},
   "outputs": [],
   "source": [
    "# Prompt\n",
    "PROMPT = \"Who is the best basketball player of all time?\"\n",
    "\n",
    "# Print Claude's response\n",
    "print(get_completion(PROMPT))"
   ]
  },
  {
   "cell_type": "code",
   "execution_count": null,
   "metadata": {},
   "outputs": [],
   "source": [
    "# Prompt\n",
    "PROMPT = \"Who is the best basketball player of all time? Yes, there are differing opinions, but if you absolutely had to pick one player, who would it be?\"\n",
    "\n",
    "# Print Claude's response\n",
    "print(get_completion(PROMPT))"
   ]
  }
 ],
 "metadata": {
  "kernelspec": {
   "display_name": ".venv",
   "language": "python",
   "name": "python3"
  },
  "language_info": {
   "codemirror_mode": {
    "name": "ipython",
    "version": 3
   },
   "file_extension": ".py",
   "mimetype": "text/x-python",
   "name": "python",
   "nbconvert_exporter": "python",
   "pygments_lexer": "ipython3",
   "version": "3.11.2"
  }
 },
 "nbformat": 4,
 "nbformat_minor": 2
}
