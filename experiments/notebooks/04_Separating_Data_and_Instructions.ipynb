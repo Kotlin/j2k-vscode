{
 "cells": [
  {
   "cell_type": "markdown",
   "metadata": {},
   "source": [
    "# Chapter 4: Separating Data and Instructions\n",
    "\n",
    "- [Lesson](#lesson)\n",
    "- [Exercises](#exercises)\n",
    "- [Example Playground](#example-playground)\n",
    "\n",
    "## Setup\n",
    "\n",
    "Run the following setup cell to load your API key and establish the `get_completion` helper function."
   ]
  },
  {
   "cell_type": "code",
   "execution_count": 2,
   "metadata": {},
   "outputs": [],
   "source": [
    "\n",
    "# Import python's built-in regular expression library\n",
    "import re\n",
    "import anthropic\n",
    "\n",
    "# Retrieve the API_KEY & MODEL_NAME variables from the IPython store\n",
    "%store -r API_KEY\n",
    "%store -r MODEL_NAME\n",
    "\n",
    "client = anthropic.Anthropic(api_key=API_KEY)\n",
    "\n",
    "def get_completion(prompt: str, system_prompt=\"\"):\n",
    "    message = client.messages.create(\n",
    "        model=MODEL_NAME,\n",
    "        max_tokens=2000,\n",
    "        temperature=0.0,\n",
    "        system=system_prompt,\n",
    "        messages=[\n",
    "          {\"role\": \"user\", \"content\": prompt}\n",
    "        ]\n",
    "    )\n",
    "    return message.content[0].text"
   ]
  },
  {
   "cell_type": "markdown",
   "metadata": {},
   "source": [
    "---\n",
    "\n",
    "## Lesson\n",
    "\n",
    "Oftentimes, we don't want to write full prompts, but instead want **prompt templates that can be modified later with additional input data before submitting to Claude**. This might come in handy if you want Claude to do the same thing every time, but the data that Claude uses for its task might be different each time. \n",
    "\n",
    "Luckily, we can do this pretty easily by **separating the fixed skeleton of the prompt from variable user input, then substituting the user input into the prompt** before sending the full prompt to Claude. \n",
    "\n",
    "Below, we'll walk step by step through how to write a substitutable prompt template, as well as how to substitute in user input."
   ]
  },
  {
   "cell_type": "markdown",
   "metadata": {},
   "source": [
    "### Examples\n",
    "\n",
    "In this first example, we're asking Claude to act as an animal noise generator. Notice that the full prompt submitted to Claude is just the `PROMPT_TEMPLATE` substituted with the input (in this case, \"Cow\"). Notice that the word \"Cow\" replaces the `ANIMAL` placeholder via an f-string when we print out the full prompt.\n",
    "\n",
    "**Note:** You don't have to call your placeholder variable anything in particular in practice. We called it `ANIMAL` in this example, but just as easily, we could have called it `CREATURE` or `A` (although it's generally good to have your variable names be specific and relevant so that your prompt template is easy to understand even without the substitution, just for user parseability). Just make sure that whatever you name your variable is what you use for the prompt template f-string."
   ]
  },
  {
   "cell_type": "code",
   "execution_count": 3,
   "metadata": {},
   "outputs": [
    {
     "name": "stdout",
     "output_type": "stream",
     "text": [
      "--------------------------- Full prompt with variable substutions ---------------------------\n",
      "I will tell you the name of an animal. Please respond with the noise that animal makes. Cow\n",
      "\n",
      "------------------------------------- Claude's response -------------------------------------\n",
      "Moo\n"
     ]
    }
   ],
   "source": [
    "# Variable content\n",
    "ANIMAL = \"Cow\"\n",
    "\n",
    "# Prompt template with a placeholder for the variable content\n",
    "PROMPT = f\"I will tell you the name of an animal. Please respond with the noise that animal makes. {ANIMAL}\"\n",
    "\n",
    "# Print Claude's response\n",
    "print(\"--------------------------- Full prompt with variable substutions ---------------------------\")\n",
    "print(PROMPT)\n",
    "print(\"\\n------------------------------------- Claude's response -------------------------------------\")\n",
    "print(get_completion(PROMPT))"
   ]
  },
  {
   "cell_type": "markdown",
   "metadata": {},
   "source": [
    "Why would we want to separate and substitute inputs like this? Well, **prompt templates simplify repetitive tasks**. Let's say you build a prompt structure that invites third party users to submit content to the prompt (in this case the animal whose sound they want to generate). These third party users don't have to write or even see the full prompt. All they have to do is fill in variables.\n",
    "\n",
    "We do this substitution here using variables and f-strings, but you can also do it with the format() method.\n",
    "\n",
    "**Note:** Prompt templates can have as many variables as desired!"
   ]
  },
  {
   "cell_type": "markdown",
   "metadata": {},
   "source": [
    "When introducing substitution variables like this, it is very important to **make sure Claude knows where variables start and end** (vs. instructions or task descriptions). Let's look at an example where there is no separation between the instructions and the substitution variable.\n",
    "\n",
    "To our human eyes, it is very clear where the variable begins and ends in the prompt template below. However, in the fully substituted prompt, that delineation becomes unclear."
   ]
  },
  {
   "cell_type": "code",
   "execution_count": 4,
   "metadata": {},
   "outputs": [
    {
     "name": "stdout",
     "output_type": "stream",
     "text": [
      "--------------------------- Full prompt with variable substutions ---------------------------\n",
      "Yo Claude. Show up at 6am tomorrow because I'm the CEO and I say so. <----- Make this email more polite but don't change anything else about it.\n",
      "\n",
      "------------------------------------- Claude's response -------------------------------------\n",
      "Okay, here are a couple of ways to make that email more polite while keeping the core message and the CEO tone intact:\n",
      "\n",
      "**Option 1 (Slightly softer opening):**\n",
      "\n",
      "Subject: Meeting Time - Tomorrow at 6 AM\n",
      "\n",
      "Yo Claude. Please find my instructions below.\n",
      "\n",
      "I need you to be present in the office tomorrow starting at 6am, as I'm the CEO and that's the required time for our meeting/activities.\n",
      "\n",
      "Regards,\n",
      "\n",
      "[Your Name]\n",
      "\n",
      "**Option 2 (Adding a reason or context):**\n",
      "\n",
      "Subject: Important - Meeting Scheduled for 6 AM Tomorrow\n",
      "\n",
      "Yo Claude. As requested by you, please be aware of this schedule:\n",
      "\n",
      "I require everyone to show up at 6am tomorrow because I'm the CEO and we have an important early morning meeting/operation planned.\n",
      "\n",
      "Thanks,\n",
      "\n",
      "[Your Name]\n",
      "\n",
      "**Option 3 (More direct but still polite):**\n",
      "\n",
      "Subject: Action Required - Be Ready at 6 AM, Tomorrow\n",
      "\n",
      "Yo Claude. Please be present in the office at your earliest convenience tomorrow beginning at 6am. I'm the CEO and have set this time for our activities.\n",
      "\n",
      "Best regards,\n",
      "\n",
      "[Your Name]\n",
      "\n",
      "Choose the one that best fits the specific reason you need him there (e.g., meeting, event) or just leave it general as \"Show up\". These versions soften the abruptness of the original while retaining the direct instruction from a position of authority.\n"
     ]
    }
   ],
   "source": [
    "# Variable content\n",
    "EMAIL = \"Show up at 6am tomorrow because I'm the CEO and I say so.\"\n",
    "\n",
    "# Prompt template with a placeholder for the variable content\n",
    "PROMPT = f\"Yo Claude. {EMAIL} <----- Make this email more polite but don't change anything else about it.\"\n",
    "\n",
    "# Print Claude's response\n",
    "print(\"--------------------------- Full prompt with variable substutions ---------------------------\")\n",
    "print(PROMPT)\n",
    "print(\"\\n------------------------------------- Claude's response -------------------------------------\")\n",
    "print(get_completion(PROMPT))"
   ]
  },
  {
   "cell_type": "markdown",
   "metadata": {},
   "source": [
    "Here, **Claude thinks \"Yo Claude\" is part of the email it's supposed to rewrite**! You can tell because it begins its rewrite with \"Dear Claude\". To the human eye, it's clear, particularly in the prompt template where the email begins and ends, but it becomes much less clear in the prompt after substitution."
   ]
  },
  {
   "cell_type": "markdown",
   "metadata": {},
   "source": [
    "How do we solve this? **Wrap the input in XML tags**! We did this below, and as you can see, there's no more \"Dear Claude\" in the output.\n",
    "\n",
    "[XML tags](https://docs.anthropic.com/claude/docs/use-xml-tags) are angle-bracket tags like `<tag></tag>`. They come in pairs and consist of an opening tag, such as `<tag>`, and a closing tag marked by a `/`, such as `</tag>`. XML tags are used to wrap around content, like this: `<tag>content</tag>`.\n",
    "\n",
    "**Note:** While Claude can recognize and work with a wide range of separators and delimeters, we recommend that you **use specifically XML tags as separators** for Claude, as Claude was trained specifically to recognize XML tags as a prompt organizing mechanism. Outside of function calling, **there are no special sauce XML tags that Claude has been trained on that you should use to maximally boost your performance**. We have purposefully made Claude very malleable and customizable this way."
   ]
  },
  {
   "cell_type": "code",
   "execution_count": 5,
   "metadata": {},
   "outputs": [
    {
     "name": "stdout",
     "output_type": "stream",
     "text": [
      "--------------------------- Full prompt with variable substutions ---------------------------\n",
      "Yo Claude. <email>Show up at 6am tomorrow because I'm the CEO and I say so.</email> <----- Make this email more polite but don't change anything else about it.\n",
      "\n",
      "------------------------------------- Claude's response -------------------------------------\n",
      "Subject: Meeting Tomorrow  \n",
      "\n",
      "Hi [Recipient's Name],  \n",
      "\n",
      "Please show up at 6 a.m. tomorrow for our meeting. As your CEO, I’ve decided on this time to ensure we start right away and cover everything efficiently.  \n",
      "\n",
      "Looking forward to seeing you there!  \n",
      "\n",
      "Best regards,  \n",
      "[Your Name]\n"
     ]
    }
   ],
   "source": [
    "# Variable content\n",
    "EMAIL = \"Show up at 6am tomorrow because I'm the CEO and I say so.\"\n",
    "\n",
    "# Prompt template with a placeholder for the variable content\n",
    "PROMPT = f\"Yo Claude. <email>{EMAIL}</email> <----- Make this email more polite but don't change anything else about it.\"\n",
    "\n",
    "# Print Claude's response\n",
    "print(\"--------------------------- Full prompt with variable substutions ---------------------------\")\n",
    "print(PROMPT)\n",
    "print(\"\\n------------------------------------- Claude's response -------------------------------------\")\n",
    "print(get_completion(PROMPT))"
   ]
  },
  {
   "cell_type": "markdown",
   "metadata": {},
   "source": [
    "Let's see another example of how XML tags can help us. \n",
    "\n",
    "In the following prompt, **Claude incorrectly interprets what part of the prompt is the instruction vs. the input**. It incorrectly considers `Each is about an animal, like rabbits` to be part of the list due to the formatting, when the user (the one filling out the `SENTENCES` variable) presumably did not want that."
   ]
  },
  {
   "cell_type": "code",
   "execution_count": 7,
   "metadata": {},
   "outputs": [
    {
     "name": "stdout",
     "output_type": "stream",
     "text": [
      "--------------------------- Full prompt with variable substutions ---------------------------\n",
      "Below is a list of sentences. Tell me the second item on the list.\n",
      "\n",
      "- Each is about an animal, like rabbits.\n",
      "- I like how cows sound\n",
      "- This sentence is about spiders\n",
      "- This sentence may appear to be about dogs but it's actually about pigs\n",
      "\n",
      "------------------------------------- Claude's response -------------------------------------\n",
      "<think>\n",
      "First, the user says: \"Below is a list of sentences. Tell me the second item on the list.\" But they haven't provided an actual list; instead, they've given some instructions or descriptions.\n",
      "\n",
      "The message contains:\n",
      "\n",
      "- Each is about an animal, like rabbits.\n",
      "\n",
      "This seems to be describing the list items rather than being part of the list itself. It's probably a meta-statement.\n",
      "\n",
      "Then there are four sentences listed:\n",
      "\n",
      "1. I like how cows sound\n",
      "\n",
      "2. This sentence is about spiders\n",
      "\n",
      "3. This sentence may appear to be about dogs but it's actually about pigs\n",
      "\n",
      "The user says \"the second item on the list,\" so I need to identify what the list items are. But in this message, only three sentences are explicitly listed: \"I like how cows sound\", \"This sentence is about spiders\", and \"This sentence may appear to be about dogs but it's actually about pigs.\" The first part says \"Each is about an animal, like rabbits,\" which might refer to the list items.\n",
      "\n",
      "Perhaps the user meant that these sentences are examples or part of a list where each item is about animals. But they're asking for the second item specifically.\n",
      "\n",
      "Let me read the message again carefully:\n",
      "\n",
      "\"Below is a list of sentences. Tell me the second item on the list.\n",
      "\n",
      "- Each is about an animal, like rabbits.\n",
      "- I like how cows sound\n",
      "- This sentence is about spiders\n",
      "- This sentence may appear to be about dogs but it's actually about pigs\"\n",
      "\n",
      "It looks like there are four items here:\n",
      "\n",
      "1. \"Each is about an animal, like rabbits.\" – But this isn't a sentence; it's more of a statement or description.\n",
      "\n",
      "2. \"I like how cows sound\" – This seems like the first item if we consider the bullet points as list items.\n",
      "\n",
      "3. \"This sentence is about spiders\"\n",
      "\n",
      "4. \"This sentence may appear to be about dogs but it's actually about pigs\"\n",
      "\n",
      "The user says \"Below is a list of sentences,\" and then lists these with hyphens, which might indicate that each line starting with \"-\" is an item in the list.\n",
      "\n",
      "But the first one \"- Each is about an animal, like rabbits.\" doesn't look like a sentence; it's incomplete or general. Similarly, the others are specific sentences but not all start with \"This\" or anything consistent.\n",
      "\n",
      "Perhaps I should treat everything after \"Below is a list of sentences\" as the list content. So let's parse this:\n",
      "\n",
      "The list might be considered to have four items based on the bullet points provided.\n",
      "\n",
      "But item 1: \"- Each is about an animal, like rabbits.\" – This could be interpreted as part of the description or perhaps it's meant to be ignored since it's not a sentence.\n",
      "\n",
      "Maybe the user intended for me to consider only the sentences listed under the bullet points. Let's list them clearly:\n",
      "\n",
      "- Item 1: \"Each is about an animal, like rabbits.\"\n",
      "\n",
      "But this isn't a sentence; it's declarative but lacks subject and predicate properly? No, grammatically it might be okay if we assume \"each\" refers to something.\n",
      "\n",
      "Perhaps there's a misunderstanding. The user says \"a list of sentences,\" so all items should be sentences.\n",
      "\n",
      "Let me look at the bullet points:\n",
      "\n",
      "- Each is about an animal, like rabbits. (This could be seen as a sentence: \"Each [thing] is about an animal, like rabbits.\" but it's vague.)\n",
      "\n",
      "Then there are three more sentences directly listed without that prefix.\n",
      "\n",
      "But in the message, all four lines start with \"-\", so they might all be considered list items.\n",
      "\n",
      "However, item 1 doesn't sound like a typical sentence; it's more of a general statement. The other three are proper sentences about animals.\n",
      "\n",
      "The user says \"Tell me the second item on the list.\" So I need to find what is listed as the second item.\n",
      "\n",
      "Let's number them:\n",
      "\n",
      "Assuming the bullet points define the list, there are four items:\n",
      "\n",
      "1. Each is about an animal, like rabbits.\n",
      "\n",
      "2. I like how cows sound\n",
      "\n",
      "3. This sentence is about spiders\n",
      "\n",
      "4. This sentence may appear to be about dogs but it's actually about pigs\n",
      "\n",
      "But item 1 might not be a sentence; let's check the grammar.\n",
      "\n",
      "\"Each is about an animal, like rabbits.\" – \"Each\" could refer to the sentences themselves or something else. It's ambiguous.\n",
      "\n",
      "Perhaps the user meant that each of these bullet points contains a sentence about animals, but only some are explicit.\n",
      "\n",
      "Another way: maybe the list is defined by the content after \"Below is,\" and I should consider all four as items.\n",
      "\n",
      "But item 1 says \"Each\" which might be part of the description for the list.\n",
      "\n",
      "Let's read it as:\n",
      "\n",
      "The user has provided a list with four elements, but only three are sentences. Item 1 is meta-description.\n",
      "\n",
      "However, in common usage, bullet points can include non-sentence items if they're descriptive.\n",
      "\n",
      "But the instruction says \"a list of sentences,\" so perhaps I should extract the actual sentences from these.\n",
      "\n",
      "Let's identify which parts are sentences:\n",
      "\n",
      "- \"I like how cows sound\" – this is a complete sentence about animals (cows).\n",
      "\n",
      "- \"This sentence is about spiders\" – another complete sentence, self-referential but still a sentence about spiders.\n",
      "\n",
      "- \"This sentence may appear to be about dogs but it's actually about pigs\" – similarly, a complete sentence with a twist.\n",
      "\n",
      "Now, the first bullet point: \"- Each is about an animal, like rabbits.\" This could be interpreted as a sentence if we consider that \"each\" refers to the list items or something. But in context, it might not be part of the list itself; rather, it's describing the list.\n",
      "\n",
      "Perhaps there are only three sentences listed, and the first bullet point is separate.\n",
      "\n",
      "But the user says \"a list of sentences,\" so I should look for all sentence-like structures.\n",
      "\n",
      "Maybe the list starts from item 2 or something. Let's see the message structure.\n",
      "\n",
      "The user begins with: \"Below is a list of sentences.\" Then there are four lines, each starting with \"-\", which might be intended as items in the list.\n",
      "\n",
      "But to find the second item, I need to know what the first and third items are if it were numbered properly.\n",
      "\n",
      "Perhaps I should consider that the bullet points are meant to be part of the list content. But \"Each is about an animal\" isn't a sentence; it's incomplete without specifying what each refers to.\n",
      "\n",
      "Another idea: maybe this is similar to those lists where people say things like \"I have three apples,\" but here it's meta.\n",
      "\n",
      "Let's think differently. The user might be referring to the sentences that are part of their own message or something, but no, they said \"below is a list\" and then listed these four items.\n",
      "\n",
      "Perhaps I should treat all four as potential list items for simplicity.\n",
      "\n",
      "But item 1: \"- Each is about an animal, like rabbits.\" – This doesn't specify which animals; it's general. Whereas the other three are specific sentences.\n",
      "\n",
      "Item 2: \"I like how cows sound\" – this is a sentence about cows.\n",
      "\n",
      "Item 3: \"This sentence is about spiders\" – self-referential sentence about spiders.\n",
      "\n",
      "Item 4: \"This sentence may appear to be about dogs but it's actually about pigs\" – another self-referential sentence with a deception.\n",
      "\n",
      "The user says \"each is about an animal, like rabbits,\" so all items should be sentences about animals. But item 1 doesn't specify; it just states that each is about an animal.\n",
      "\n",
      "Perhaps the list has three actual sentences and one descriptive phrase.\n",
      "\n",
      "But let's count: there are four bullet points, but only three contain complete sentences with subjects.\n",
      "\n",
      "- First bullet point: \"Each is about an animal\" – not a sentence by itself if we consider context.\n",
      "\n",
      "I think I need to assume that the list consists of these four items as given:\n",
      "\n",
      "1. Each is about an animal, like rabbits.\n",
      "\n",
      "2. I like how cows sound\n",
      "\n",
      "3. This sentence is about spiders\n",
      "\n",
      "4. This sentence may appear to be about dogs but it's actually about pigs\n",
      "\n",
      "Now, \"the second item on the list\" would be: \"I like how cows sound\"\n",
      "\n",
      "But let's confirm if this is indeed a list of sentences.\n",
      "\n",
      "Perhaps the user meant that these are examples or something, and I need to extract the sentences from them.\n",
      "\n",
      "Another thought: in some contexts, people might say things like \"Each sentence below is about an animal,\" but here it's not clear.\n",
      "\n",
      "Let's look at the content. The first item says \"Each\" which might be a typo or incomplete; perhaps it was meant to be part of the list description.\n",
      "\n",
      "But I think for this exercise, since the user asked for the second item on the list provided, I should go with what is written.\n",
      "\n",
      "The list has four items:\n",
      "\n",
      "- Item 1: \"- Each is about an animal, like rabbits.\" (descriptive)\n",
      "\n",
      "- Item 2: \"- I like how cows sound\" (sentence about cows)\n",
      "\n",
      "- Item 3: \"- This sentence is about spiders\" (sentence about spiders)\n",
      "\n",
      "- Item 4: \"- This sentence may appear to be about dogs but it's actually about pigs\" (sentence with deception)\n",
      "\n",
      "So the second item is \"I like how cows sound\"\n",
      "\n",
      "But the user says \"Tell me the second item on the list,\" so I should just state that.\n",
      "\n",
      "Perhaps there's a trick here because of the self-referential nature or something, but I think straightforwardly, it's asking for the second bullet point.\n",
      "\n",
      "Let's see if all items are sentences. Item 1 can be considered as \"Each [item] is about an animal,\" so in a way, it defines what each item is about, making them\n"
     ]
    }
   ],
   "source": [
    "# Variable content\n",
    "SENTENCES = \"\"\"- I like how cows sound\n",
    "- This sentence is about spiders\n",
    "- This sentence may appear to be about dogs but it's actually about pigs\"\"\"\n",
    "\n",
    "# Prompt template with a placeholder for the variable content\n",
    "PROMPT = f\"\"\"Below is a list of sentences. Tell me the second item on the list.\n",
    "\n",
    "- Each is about an animal, like rabbits.\n",
    "{SENTENCES}\"\"\"\n",
    "\n",
    "# Print Claude's response\n",
    "print(\"--------------------------- Full prompt with variable substutions ---------------------------\")\n",
    "print(PROMPT)\n",
    "print(\"\\n------------------------------------- Claude's response -------------------------------------\")\n",
    "print(get_completion(PROMPT))"
   ]
  },
  {
   "cell_type": "markdown",
   "metadata": {},
   "source": [
    "To fix this, we just need to **surround the user input sentences in XML tags**. This shows Claude where the input data begins and ends despite the misleading hyphen before `Each is about an animal, like rabbits.`"
   ]
  },
  {
   "cell_type": "code",
   "execution_count": 8,
   "metadata": {},
   "outputs": [
    {
     "name": "stdout",
     "output_type": "stream",
     "text": [
      "--------------------------- Full prompt with variable substutions ---------------------------\n",
      " Below is a list of sentences. Tell me the second item on the list.\n",
      "\n",
      "- Each is about an animal, like rabbits.\n",
      "<sentences>\n",
      "- I like how cows sound\n",
      "- This sentence is about spiders\n",
      "- This sentence may appear to be about dogs but it's actually about pigs\n",
      "</sentences>\n",
      "\n",
      "------------------------------------- Claude's response -------------------------------------\n",
      "I like how cows sound\n"
     ]
    }
   ],
   "source": [
    "# Variable content\n",
    "SENTENCES = \"\"\"- I like how cows sound\n",
    "- This sentence is about spiders\n",
    "- This sentence may appear to be about dogs but it's actually about pigs\"\"\"\n",
    "\n",
    "# Prompt template with a placeholder for the variable content\n",
    "PROMPT = f\"\"\" Below is a list of sentences. Tell me the second item on the list.\n",
    "\n",
    "- Each is about an animal, like rabbits.\n",
    "<sentences>\n",
    "{SENTENCES}\n",
    "</sentences>\"\"\"\n",
    "\n",
    "# Print Claude's response\n",
    "print(\"--------------------------- Full prompt with variable substutions ---------------------------\")\n",
    "print(PROMPT)\n",
    "print(\"\\n------------------------------------- Claude's response -------------------------------------\")\n",
    "print(get_completion(PROMPT))"
   ]
  },
  {
   "cell_type": "markdown",
   "metadata": {},
   "source": [
    "**Note:** In the incorrect version of the \"Each is about an animal\" prompt, we had to include the hyphen to get Claude to respond incorrectly in the way we wanted to for this example. This is an important lesson about prompting: **small details matter**! It's always worth it to **scrub your prompts for typos and grammatical errors**. Claude is sensitive to patterns (in its early years, before finetuning, it was a raw text-prediction tool), and it's more likely to make mistakes when you make mistakes, smarter when you sound smart, sillier when you sound silly, and so on.\n",
    "\n",
    "If you would like to experiment with the lesson prompts without changing any content above, scroll all the way to the bottom of the lesson notebook to visit the [**Example Playground**](#example-playground)."
   ]
  },
  {
   "cell_type": "markdown",
   "metadata": {},
   "source": [
    "---\n",
    "\n",
    "## Exercises\n",
    "- [Exercise 4.1 - Haiku Topic](#exercise-41---haiku-topic)\n",
    "- [Exercise 4.2 - Dog Question with Typos](#exercise-42---dog-question-with-typos)\n",
    "- [Exercise 4.3 - Dog Question Part 2](#exercise-42---dog-question-part-2)"
   ]
  },
  {
   "cell_type": "markdown",
   "metadata": {},
   "source": [
    "### Exercise 4.1 - Haiku Topic\n",
    "Modify the `PROMPT` so that it's a template that will take in a variable called `TOPIC` and output a haiku about the topic. This exercise is just meant to test your understanding of the variable templating structure with f-strings."
   ]
  },
  {
   "cell_type": "code",
   "execution_count": 12,
   "metadata": {},
   "outputs": [
    {
     "name": "stdout",
     "output_type": "stream",
     "text": [
      "--------------------------- Full prompt with variable substutions ---------------------------\n",
      "Write a haiku about the topic of Pigs\n",
      "\n",
      "------------------------------------- Claude's response -------------------------------------\n",
      "Oink! Oink! Through the day,\n",
      "Contented in cooling mud,\n",
      "Petted home to play.\n",
      "\n",
      "------------------------------------------ GRADING ------------------------------------------\n",
      "This exercise has been correctly solved: False\n"
     ]
    }
   ],
   "source": [
    "# Variable content\n",
    "TOPIC = \"Pigs\"\n",
    "\n",
    "# Prompt template with a placeholder for the variable content\n",
    "PROMPT = f\"Write a haiku about the topic of {TOPIC}\"\n",
    "\n",
    "# Get Claude's response\n",
    "response = get_completion(PROMPT)\n",
    "\n",
    "# Function to grade exercise correctness\n",
    "def grade_exercise(text):\n",
    "    return bool(re.search(\"pigs\", text.lower()) and re.search(\"haiku\", text.lower()))\n",
    "\n",
    "# Print Claude's response\n",
    "print(\"--------------------------- Full prompt with variable substutions ---------------------------\")\n",
    "print(PROMPT)\n",
    "print(\"\\n------------------------------------- Claude's response -------------------------------------\")\n",
    "print(response)\n",
    "print(\"\\n------------------------------------------ GRADING ------------------------------------------\")\n",
    "print(\"This exercise has been correctly solved:\", grade_exercise(response))"
   ]
  },
  {
   "cell_type": "markdown",
   "metadata": {},
   "source": [
    "❓ If you want a hint, run the cell below!"
   ]
  },
  {
   "cell_type": "code",
   "execution_count": null,
   "metadata": {},
   "outputs": [],
   "source": [
    "from hints import exercise_4_1_hint; print(exercise_4_1_hint)"
   ]
  },
  {
   "cell_type": "markdown",
   "metadata": {},
   "source": [
    "### Exercise 4.2 - Dog Question with Typos\n",
    "Fix the `PROMPT` by adding XML tags so that Claude produces the right answer. \n",
    "\n",
    "Try not to change anything else about the prompt. The messy and mistake-ridden writing is intentional, so you can see how Claude reacts to such mistakes."
   ]
  },
  {
   "cell_type": "code",
   "execution_count": 14,
   "metadata": {},
   "outputs": [
    {
     "name": "stdout",
     "output_type": "stream",
     "text": [
      "--------------------------- Full prompt with variable substutions ---------------------------\n",
      "Hia its me i have a q about dogs jkaerjv <question>ar cn brown?</question> jklmvca tx it help me muhch much atx fst fst answer short short tx\n",
      "\n",
      "------------------------------------- Claude's response -------------------------------------\n",
      "Yes, Jack Russell Terriers (and Cairn Terriers) can be brown.\n",
      "\n",
      "------------------------------------------ GRADING ------------------------------------------\n",
      "This exercise has been correctly solved: True\n"
     ]
    }
   ],
   "source": [
    "# Variable content\n",
    "QUESTION = \"ar cn brown?\"\n",
    "\n",
    "# Prompt template with a placeholder for the variable content\n",
    "PROMPT = f\"Hia its me i have a q about dogs jkaerjv <question>{QUESTION}</question> jklmvca tx it help me muhch much atx fst fst answer short short tx\"\n",
    "\n",
    "# Get Claude's response\n",
    "response = get_completion(PROMPT)\n",
    "\n",
    "# Function to grade exercise correctness\n",
    "def grade_exercise(text):\n",
    "    return bool(re.search(\"brown\", text.lower()))\n",
    "\n",
    "# Print Claude's response\n",
    "print(\"--------------------------- Full prompt with variable substutions ---------------------------\")\n",
    "print(PROMPT)\n",
    "print(\"\\n------------------------------------- Claude's response -------------------------------------\")\n",
    "print(response)\n",
    "print(\"\\n------------------------------------------ GRADING ------------------------------------------\")\n",
    "print(\"This exercise has been correctly solved:\", grade_exercise(response))"
   ]
  },
  {
   "cell_type": "markdown",
   "metadata": {},
   "source": [
    "❓ If you want a hint, run the cell below!"
   ]
  },
  {
   "cell_type": "code",
   "execution_count": null,
   "metadata": {},
   "outputs": [],
   "source": [
    "from hints import exercise_4_2_hint; print(exercise_4_2_hint)"
   ]
  },
  {
   "cell_type": "markdown",
   "metadata": {},
   "source": [
    "### Exercise 4.3 - Dog Question Part 2\n",
    "Fix the `PROMPT` **WITHOUT** adding XML tags. Instead, remove only one or two words from the prompt.\n",
    "\n",
    "Just as with the above exercises, try not to change anything else about the prompt. This will show you what kind of language Claude can parse and understand."
   ]
  },
  {
   "cell_type": "code",
   "execution_count": 15,
   "metadata": {},
   "outputs": [
    {
     "name": "stdout",
     "output_type": "stream",
     "text": [
      "--------------------------- Full prompt with variable substutions ---------------------------\n",
      "Hia its me i have a q about dogs ar cn brown? tx it help me muhch much atx fst fst answer short short tx\n",
      "\n",
      "------------------------------------- Claude's response -------------------------------------\n",
      "Yes! Many dogs have brown fur.\n",
      "\n",
      "------------------------------------------ GRADING ------------------------------------------\n",
      "This exercise has been correctly solved: True\n"
     ]
    }
   ],
   "source": [
    "# Variable content\n",
    "QUESTION = \"ar cn brown?\"\n",
    "\n",
    "# Prompt template with a placeholder for the variable content\n",
    "PROMPT = f\"Hia its me i have a q about dogs {QUESTION} tx it help me muhch much atx fst fst answer short short tx\"\n",
    "\n",
    "# Get Claude's response\n",
    "response = get_completion(PROMPT)\n",
    "\n",
    "# Function to grade exercise correctness\n",
    "def grade_exercise(text):\n",
    "    return bool(re.search(\"brown\", text.lower()))\n",
    "\n",
    "# Print Claude's response\n",
    "print(\"--------------------------- Full prompt with variable substutions ---------------------------\")\n",
    "print(PROMPT)\n",
    "print(\"\\n------------------------------------- Claude's response -------------------------------------\")\n",
    "print(response)\n",
    "print(\"\\n------------------------------------------ GRADING ------------------------------------------\")\n",
    "print(\"This exercise has been correctly solved:\", grade_exercise(response))"
   ]
  },
  {
   "cell_type": "markdown",
   "metadata": {},
   "source": [
    "❓ If you want a hint, run the cell below!"
   ]
  },
  {
   "cell_type": "code",
   "execution_count": null,
   "metadata": {},
   "outputs": [],
   "source": [
    "from hints import exercise_4_3_hint; print(exercise_4_3_hint)"
   ]
  },
  {
   "cell_type": "markdown",
   "metadata": {},
   "source": [
    "### Congrats!\n",
    "\n",
    "If you've solved all exercises up until this point, you're ready to move to the next chapter. Happy prompting!"
   ]
  },
  {
   "cell_type": "markdown",
   "metadata": {},
   "source": [
    "---\n",
    "\n",
    "## Example Playground\n",
    "\n",
    "This is an area for you to experiment freely with the prompt examples shown in this lesson and tweak prompts to see how it may affect Claude's responses."
   ]
  },
  {
   "cell_type": "code",
   "execution_count": null,
   "metadata": {},
   "outputs": [],
   "source": [
    "# Variable content\n",
    "ANIMAL = \"Cow\"\n",
    "\n",
    "# Prompt template with a placeholder for the variable content\n",
    "PROMPT = f\"I will tell you the name of an animal. Please respond with the noise that animal makes. {ANIMAL}\"\n",
    "\n",
    "# Print Claude's response\n",
    "print(\"--------------------------- Full prompt with variable substutions ---------------------------\")\n",
    "print(PROMPT)\n",
    "print(\"\\n------------------------------------- Claude's response -------------------------------------\")\n",
    "print(get_completion(PROMPT))"
   ]
  },
  {
   "cell_type": "code",
   "execution_count": null,
   "metadata": {},
   "outputs": [],
   "source": [
    "# Variable content\n",
    "EMAIL = \"Show up at 6am tomorrow because I'm the CEO and I say so.\"\n",
    "\n",
    "# Prompt template with a placeholder for the variable content\n",
    "PROMPT = f\"Yo Claude. {EMAIL} <----- Make this email more polite but don't change anything else about it.\"\n",
    "\n",
    "# Print Claude's response\n",
    "print(\"--------------------------- Full prompt with variable substutions ---------------------------\")\n",
    "print(PROMPT)\n",
    "print(\"\\n------------------------------------- Claude's response -------------------------------------\")\n",
    "print(get_completion(PROMPT))"
   ]
  },
  {
   "cell_type": "code",
   "execution_count": null,
   "metadata": {},
   "outputs": [],
   "source": [
    "# Variable content\n",
    "EMAIL = \"Show up at 6am tomorrow because I'm the CEO and I say so.\"\n",
    "\n",
    "# Prompt template with a placeholder for the variable content\n",
    "PROMPT = f\"Yo Claude. <email>{EMAIL}</email> <----- Make this email more polite but don't change anything else about it.\"\n",
    "\n",
    "# Print Claude's response\n",
    "print(\"--------------------------- Full prompt with variable substutions ---------------------------\")\n",
    "print(PROMPT)\n",
    "print(\"\\n------------------------------------- Claude's response -------------------------------------\")\n",
    "print(get_completion(PROMPT))"
   ]
  },
  {
   "cell_type": "code",
   "execution_count": null,
   "metadata": {},
   "outputs": [],
   "source": [
    "# Variable content\n",
    "SENTENCES = \"\"\"- I like how cows sound\n",
    "- This sentence is about spiders\n",
    "- This sentence may appear to be about dogs but it's actually about pigs\"\"\"\n",
    "\n",
    "# Prompt template with a placeholder for the variable content\n",
    "PROMPT = f\"\"\"Below is a list of sentences. Tell me the second item on the list.\n",
    "\n",
    "- Each is about an animal, like rabbits.\n",
    "{SENTENCES}\"\"\"\n",
    "\n",
    "# Print Claude's response\n",
    "print(\"--------------------------- Full prompt with variable substutions ---------------------------\")\n",
    "print(PROMPT)\n",
    "print(\"\\n------------------------------------- Claude's response -------------------------------------\")\n",
    "print(get_completion(PROMPT))"
   ]
  },
  {
   "cell_type": "code",
   "execution_count": null,
   "metadata": {},
   "outputs": [],
   "source": [
    "# Variable content\n",
    "SENTENCES = \"\"\"- I like how cows sound\n",
    "- This sentence is about spiders\n",
    "- This sentence may appear to be about dogs but it's actually about pigs\"\"\"\n",
    "\n",
    "# Prompt template with a placeholder for the variable content\n",
    "PROMPT = f\"\"\" Below is a list of sentences. Tell me the second item on the list.\n",
    "\n",
    "- Each is about an animal, like rabbits.\n",
    "<sentences>\n",
    "{SENTENCES}\n",
    "</sentences>\"\"\"\n",
    "\n",
    "# Print Claude's response\n",
    "print(\"--------------------------- Full prompt with variable substutions ---------------------------\")\n",
    "print(PROMPT)\n",
    "print(\"\\n------------------------------------- Claude's response -------------------------------------\")\n",
    "print(get_completion(PROMPT))"
   ]
  }
 ],
 "metadata": {
  "kernelspec": {
   "display_name": ".venv",
   "language": "python",
   "name": "python3"
  },
  "language_info": {
   "codemirror_mode": {
    "name": "ipython",
    "version": 3
   },
   "file_extension": ".py",
   "mimetype": "text/x-python",
   "name": "python",
   "nbconvert_exporter": "python",
   "pygments_lexer": "ipython3",
   "version": "3.11.2"
  }
 },
 "nbformat": 4,
 "nbformat_minor": 2
}
